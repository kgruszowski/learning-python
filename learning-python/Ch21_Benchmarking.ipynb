{
 "cells": [
  {
   "cell_type": "code",
   "execution_count": 75,
   "metadata": {},
   "outputs": [],
   "source": [
    "import time"
   ]
  },
  {
   "cell_type": "markdown",
   "metadata": {},
   "source": [
    "## Simple timer function"
   ]
  },
  {
   "cell_type": "code",
   "execution_count": 85,
   "metadata": {},
   "outputs": [],
   "source": [
    "def timer(func, *args, times=1000):\n",
    "    start = time.perf_counter()\n",
    "    for i in range(times):\n",
    "        func(*args)\n",
    "    return time.perf_counter() - start"
   ]
  },
  {
   "cell_type": "code",
   "execution_count": 66,
   "metadata": {},
   "outputs": [
    {
     "data": {
      "text/plain": [
       "1.2426736980014539"
      ]
     },
     "execution_count": 66,
     "metadata": {},
     "output_type": "execute_result"
    }
   ],
   "source": [
    "timer(pow, 1233, 12323)"
   ]
  },
  {
   "cell_type": "code",
   "execution_count": 71,
   "metadata": {},
   "outputs": [],
   "source": [
    "benchmark = [(n,timer(pow, 222, 6666)) for n in range(25)]\n",
    "benchmark2 = [(n,timer(pow, 333+n, 6565)) for n in range(25)]"
   ]
  },
  {
   "cell_type": "code",
   "execution_count": 72,
   "metadata": {},
   "outputs": [
    {
     "data": {
      "text/plain": [
       "[(0, 0.29221509499984677),\n",
       " (1, 0.2709045179981331),\n",
       " (2, 0.2726686989990412),\n",
       " (3, 0.2733515410000109),\n",
       " (4, 0.2723182830013684),\n",
       " (5, 0.27003204399807146),\n",
       " (6, 0.27034882999942056),\n",
       " (7, 0.2716363369981991),\n",
       " (8, 0.2723461759997008),\n",
       " (9, 0.3059651629992004),\n",
       " (10, 0.27030230600212235),\n",
       " (11, 0.2699816690001171),\n",
       " (12, 0.27055067300170776),\n",
       " (13, 0.27441384099802235),\n",
       " (14, 0.28047785800299607),\n",
       " (15, 0.2703985459993419),\n",
       " (16, 0.27998123400175245),\n",
       " (17, 0.27027814100074465),\n",
       " (18, 0.2700905759993475),\n",
       " (19, 0.2702514649972727),\n",
       " (20, 0.3286759059992619),\n",
       " (21, 0.27338326400058577),\n",
       " (22, 0.27761154000108945),\n",
       " (23, 0.27948460100014927),\n",
       " (24, 0.2918546510009037)]"
      ]
     },
     "execution_count": 72,
     "metadata": {},
     "output_type": "execute_result"
    }
   ],
   "source": [
    "benchmark"
   ]
  },
  {
   "cell_type": "code",
   "execution_count": 73,
   "metadata": {},
   "outputs": [
    {
     "data": {
      "text/plain": [
       "<matplotlib.collections.PathCollection at 0x7fa260912190>"
      ]
     },
     "execution_count": 73,
     "metadata": {},
     "output_type": "execute_result"
    },
    {
     "data": {
      "image/png": "[encoded data removed]",
      "text/plain": [
       "<Figure size 432x288 with 1 Axes>"
      ]
     },
     "metadata": {
      "needs_background": "light"
     },
     "output_type": "display_data"
    }
   ],
   "source": [
    "from matplotlib import pyplot as plt\n",
    "x,y = zip(*benchmark)\n",
    "plt.scatter(x,y) # looks like it uses cache so consecutive calls are pretty similar"
   ]
  },
  {
   "cell_type": "code",
   "execution_count": 74,
   "metadata": {},
   "outputs": [
    {
     "data": {
      "text/plain": [
       "<matplotlib.collections.PathCollection at 0x7fa260882410>"
      ]
     },
     "execution_count": 74,
     "metadata": {},
     "output_type": "execute_result"
    },
    {
     "data": {
      "image/png": "[encoded data removed]",
      "text/plain": [
       "<Figure size 432x288 with 1 Axes>"
      ]
     },
     "metadata": {
      "needs_background": "light"
     },
     "output_type": "display_data"
    }
   ],
   "source": [
    "x1,y1 = zip(*benchmark2)\n",
    "plt.scatter(x1,y1) # results are \"randomized\" so time is slightly differs"
   ]
  },
  {
   "cell_type": "markdown",
   "metadata": {},
   "source": [
    "## Timing iterators"
   ]
  },
  {
   "cell_type": "code",
   "execution_count": 105,
   "metadata": {},
   "outputs": [],
   "source": [
    "import sys\n",
    "reps = 10000\n",
    "replist = list(range(reps))"
   ]
  },
  {
   "cell_type": "markdown",
   "metadata": {},
   "source": [
    "### Test built-in function"
   ]
  },
  {
   "cell_type": "code",
   "execution_count": 114,
   "metadata": {},
   "outputs": [],
   "source": [
    "def forLoop():\n",
    "    res = []\n",
    "    for x in replist:\n",
    "        res.append(abs(x))\n",
    "    return res\n",
    "\n",
    "def listComp():\n",
    "    return [abs(x) for x in replist]\n",
    "\n",
    "def mapCall():\n",
    "    return list(map(abs, replist))\n",
    "\n",
    "def genExp():\n",
    "    return list((abs(x) for x in replist))\n",
    "\n",
    "def genFunc():\n",
    "    def gen():\n",
    "        for x in replist:\n",
    "            yield abs(x)\n",
    "    return list(gen())"
   ]
  },
  {
   "cell_type": "code",
   "execution_count": 107,
   "metadata": {},
   "outputs": [],
   "source": [
    "results = []\n",
    "for test in (forLoop, listComp, mapCall, genExp, genFunc):\n",
    "    results.append((test.__name__, timer(test, times=1000)))"
   ]
  },
  {
   "cell_type": "code",
   "execution_count": 108,
   "metadata": {},
   "outputs": [
    {
     "data": {
      "text/plain": [
       "'3.7.4 (default, Aug 13 2019, 20:35:49) \\n[GCC 7.3.0]'"
      ]
     },
     "execution_count": 108,
     "metadata": {},
     "output_type": "execute_result"
    }
   ],
   "source": [
    "sys.version"
   ]
  },
  {
   "cell_type": "code",
   "execution_count": 109,
   "metadata": {},
   "outputs": [
    {
     "data": {
      "text/plain": [
       "[('forLoop', 0.789492326999607),\n",
       " ('listComp', 0.47120119399914984),\n",
       " ('mapCall', 0.20366575799926068),\n",
       " ('genExp', 0.6055020370004058),\n",
       " ('genFunc', 0.6101745019986993)]"
      ]
     },
     "execution_count": 109,
     "metadata": {},
     "output_type": "execute_result"
    }
   ],
   "source": [
    "results"
   ]
  },
  {
   "cell_type": "code",
   "execution_count": 110,
   "metadata": {},
   "outputs": [
    {
     "data": {
      "text/plain": [
       "<matplotlib.collections.PathCollection at 0x7fa26068c950>"
      ]
     },
     "execution_count": 110,
     "metadata": {},
     "output_type": "execute_result"
    },
    {
     "data": {
      "image/png": "[encoded data removed]",
      "text/plain": [
       "<Figure size 432x288 with 1 Axes>"
      ]
     },
     "metadata": {
      "needs_background": "light"
     },
     "output_type": "display_data"
    }
   ],
   "source": [
    "x,y = zip(*results)\n",
    "plt.scatter(x, y)"
   ]
  },
  {
   "cell_type": "code",
   "execution_count": 116,
   "metadata": {},
   "outputs": [],
   "source": [
    "def forLoop2():\n",
    "    res = []\n",
    "    for x in replist:\n",
    "        res.append(x+10)\n",
    "    return res\n",
    "\n",
    "def listComp2():\n",
    "    return [x+10 for x in replist]\n",
    "\n",
    "def mapCall2():\n",
    "    return list(map((lambda x: x+10), replist))\n",
    "\n",
    "def genExp2():\n",
    "    return list((x+10 for x in replist))\n",
    "\n",
    "def genFunc2():\n",
    "    def gen():\n",
    "        for x in replist:\n",
    "            yield x+10\n",
    "    return list(gen())"
   ]
  },
  {
   "cell_type": "code",
   "execution_count": 119,
   "metadata": {},
   "outputs": [],
   "source": [
    "results2 = []\n",
    "for test in (forLoop2, listComp2, mapCall2, genExp2, genFunc2):\n",
    "    results2.append((test.__name__, timer(test, times=1000)))"
   ]
  },
  {
   "cell_type": "code",
   "execution_count": 120,
   "metadata": {},
   "outputs": [
    {
     "data": {
      "text/plain": [
       "[('forLoop2', 0.6714103179983795),\n",
       " ('listComp2', 0.36961946900191833),\n",
       " ('mapCall2', 0.6926771920007013),\n",
       " ('genExp2', 0.5137285540004086),\n",
       " ('genFunc2', 0.5122542319986678)]"
      ]
     },
     "execution_count": 120,
     "metadata": {},
     "output_type": "execute_result"
    }
   ],
   "source": [
    "results2"
   ]
  },
  {
   "cell_type": "code",
   "execution_count": 121,
   "metadata": {},
   "outputs": [
    {
     "data": {
      "text/plain": [
       "<matplotlib.collections.PathCollection at 0x7fa2607b9090>"
      ]
     },
     "execution_count": 121,
     "metadata": {},
     "output_type": "execute_result"
    },
    {
     "data": {
      "image/png": "[encoded data removed]",
      "text/plain": [
       "<Figure size 432x288 with 1 Axes>"
      ]
     },
     "metadata": {
      "needs_background": "light"
     },
     "output_type": "display_data"
    }
   ],
   "source": [
    "x,y = zip(*results2)\n",
    "plt.scatter(x, y)"
   ]
  },
  {
   "cell_type": "markdown",
   "metadata": {},
   "source": [
    "## timeit function"
   ]
  },
  {
   "cell_type": "code",
   "execution_count": 1,
   "metadata": {},
   "outputs": [],
   "source": [
    "import timeit"
   ]
  },
  {
   "cell_type": "code",
   "execution_count": 4,
   "metadata": {},
   "outputs": [
    {
     "data": {
      "text/plain": [
       "[0.2309483569999884,\n",
       " 0.21111661700001605,\n",
       " 0.20742863499981468,\n",
       " 0.2061104100000648,\n",
       " 0.20610616800013304]"
      ]
     },
     "execution_count": 4,
     "metadata": {},
     "output_type": "execute_result"
    }
   ],
   "source": [
    "timeit.repeat(stmt=\"[x ** 2 for x in range(1000)]\", number=1000, repeat=5)"
   ]
  },
  {
   "cell_type": "code",
   "execution_count": 9,
   "metadata": {},
   "outputs": [
    {
     "data": {
      "text/plain": [
       "2.096034943000177"
      ]
     },
     "execution_count": 9,
     "metadata": {},
     "output_type": "execute_result"
    }
   ],
   "source": [
    "min(timeit.repeat(stmt=\"l = range(10000); l2 = [x ** 2 for x in l]\", number=1000, repeat=5))"
   ]
  },
  {
   "cell_type": "code",
   "execution_count": 10,
   "metadata": {},
   "outputs": [
    {
     "data": {
      "text/plain": [
       "2.088700096999901"
      ]
     },
     "execution_count": 10,
     "metadata": {},
     "output_type": "execute_result"
    }
   ],
   "source": [
    "min(timeit.repeat(setup=\"l = range(10000)\", stmt=\"l2 = [x ** 2 for x in l]\", number=1000, repeat=5))"
   ]
  },
  {
   "cell_type": "code",
   "execution_count": null,
   "metadata": {},
   "outputs": [],
   "source": []
  }
 ],
 "metadata": {
  "kernelspec": {
   "display_name": "Python 3",
   "language": "python",
   "name": "python3"
  },
  "language_info": {
   "codemirror_mode": {
    "name": "ipython",
    "version": 3
   },
   "file_extension": ".py",
   "mimetype": "text/x-python",
   "name": "python",
   "nbconvert_exporter": "python",
   "pygments_lexer": "ipython3",
   "version": "3.7.4"
  }
 },
 "nbformat": 4,
 "nbformat_minor": 2
}
